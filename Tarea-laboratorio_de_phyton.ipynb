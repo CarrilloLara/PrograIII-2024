{
  "cells": [
    {
      "cell_type": "markdown",
      "metadata": {
        "id": "view-in-github",
        "colab_type": "text"
      },
      "source": [
        "<a href=\"https://colab.research.google.com/github/CarrilloLara/PrograIII-2024/blob/main/Tarea-laboratorio_de_phyton.ipynb\" target=\"_parent\"><img src=\"https://colab.research.google.com/assets/colab-badge.svg\" alt=\"Open In Colab\"/></a>"
      ]
    },
    {
      "cell_type": "markdown",
      "source": [
        "# **CLASE**"
      ],
      "metadata": {
        "id": "UBXakPRBD4Ul"
      }
    },
    {
      "cell_type": "code",
      "source": [
        "print(\"Hola Mundo\")\n",
        "nombre = \"Carrillo Lara\"\n",
        "\n",
        "print(\"Hola \", nombre, \", inicial: \", nombre[0], nombre[5])"
      ],
      "metadata": {
        "id": "gHrQrrhGtdxp",
        "outputId": "c05cf100-2c78-4bda-e1d3-22371ccf07b9",
        "colab": {
          "base_uri": "https://localhost:8080/"
        }
      },
      "execution_count": null,
      "outputs": [
        {
          "output_type": "stream",
          "name": "stdout",
          "text": [
            "Hola Mundo\n",
            "Hola  Carrillo Lara , inicial:  C l\n"
          ]
        }
      ]
    },
    {
      "cell_type": "markdown",
      "source": [
        "**Ejercicios:**\n",
        "\n",
        "\n",
        "\n",
        "\n"
      ],
      "metadata": {
        "id": "gnXp8PeUt2GJ"
      }
    },
    {
      "cell_type": "markdown",
      "source": [
        "Crear un programa en python que sume dos numeros\n"
      ],
      "metadata": {
        "id": "ndbKf_LAuv3y"
      }
    },
    {
      "cell_type": "code",
      "source": [
        "num1 = 5.1\n",
        "num2 = 5.2\n",
        "resp = num1 + num2\n",
        "print(\"La suma es: \", resp)"
      ],
      "metadata": {
        "id": "4wQXp5RGt75M",
        "outputId": "ba423975-c382-4586-dc90-620dbdeb4920",
        "colab": {
          "base_uri": "https://localhost:8080/"
        }
      },
      "execution_count": null,
      "outputs": [
        {
          "output_type": "stream",
          "name": "stdout",
          "text": [
            "La suma es:  10.3\n"
          ]
        }
      ]
    },
    {
      "cell_type": "markdown",
      "source": [
        "Crear un programa en python que sume dos numeros introducidos por el usuario"
      ],
      "metadata": {
        "id": "00Ecg_HkufLd"
      }
    },
    {
      "cell_type": "code",
      "source": [
        "print(\"Num 1\")\n",
        "num1 = int(input())\n",
        "\n",
        "print(\"Num 2\")\n",
        "num2 = float(input())\n",
        "\n",
        "resp = num1 + num2\n",
        "print(\"La suma es: \", resp)"
      ],
      "metadata": {
        "id": "gxQcNuBXukUg",
        "outputId": "06fef9f3-945c-4398-a205-0c222dc3a4cc",
        "colab": {
          "base_uri": "https://localhost:8080/"
        }
      },
      "execution_count": null,
      "outputs": [
        {
          "output_type": "stream",
          "name": "stdout",
          "text": [
            "Num 1\n",
            "5\n",
            "Num 2\n",
            "5\n",
            "La suma es:  10.0\n"
          ]
        }
      ]
    },
    {
      "cell_type": "code",
      "source": [
        "#Tipos de datos\n",
        "num1 = 5 #entero\n",
        "num2 = 5.9 #decimal\n",
        "nombre = \"Carrillo Lara\" #cadenas\n",
        "print(nombre, nombre[0:4], nombre[:4], nombre[-1], nombre[5:len(nombre)])\n",
        "\n",
        "estado = True\n",
        "print(estado)\n",
        "\n",
        "print(type(nombre), type(num1), type(num2), type(estado) )"
      ],
      "metadata": {
        "id": "Lxjy_n88u9X9",
        "outputId": "42315020-d57a-4c98-a5d5-c43687041f6b",
        "colab": {
          "base_uri": "https://localhost:8080/"
        }
      },
      "execution_count": null,
      "outputs": [
        {
          "output_type": "stream",
          "name": "stdout",
          "text": [
            "Carrillo Lara Carr Carr a llo Lara\n",
            "True\n",
            "<class 'str'> <class 'int'> <class 'float'> <class 'bool'>\n"
          ]
        }
      ]
    },
    {
      "cell_type": "markdown",
      "source": [
        "Crear un programa en python que lea un numero y determine si es par o impar."
      ],
      "metadata": {
        "id": "5tA-v3ATvNoj"
      }
    },
    {
      "cell_type": "code",
      "source": [
        "num = int(input(\"ingrese un numero:\"))\n",
        "if num % 2 == 0:\n",
        "  print(\"El numero es par\", num)\n",
        "else:\n",
        "  print(\"El numero es impar\")"
      ],
      "metadata": {
        "id": "virDVh05vZQD",
        "outputId": "a636d3af-ebaf-40f4-c3e7-1b7c5439c872",
        "colab": {
          "base_uri": "https://localhost:8080/"
        }
      },
      "execution_count": null,
      "outputs": [
        {
          "output_type": "stream",
          "name": "stdout",
          "text": [
            "ingrese un numero:10\n",
            "El numero es par 10\n"
          ]
        }
      ]
    },
    {
      "cell_type": "markdown",
      "source": [
        "Uso de las funciones de usuario, con la suma de dos numeros.\n"
      ],
      "metadata": {
        "id": "qCxsmqssvnbN"
      }
    },
    {
      "cell_type": "code",
      "source": [
        "def suma(num1, num2):\n",
        "  return num1 + num2"
      ],
      "metadata": {
        "id": "_2ysZBk7vo-u"
      },
      "execution_count": null,
      "outputs": []
    },
    {
      "cell_type": "code",
      "source": [
        "num1 = float(input(\"Num 1: \"))\n",
        "num2 = float(input(\"Num 2: \"))\n",
        "\n",
        "resp = suma(num1, num2)\n",
        "print(\"La suma es: \", resp)"
      ],
      "metadata": {
        "id": "BSwks7yovvIo",
        "outputId": "bc1e45bb-f154-44f7-ac04-d5c5a70b3bfe",
        "colab": {
          "base_uri": "https://localhost:8080/"
        }
      },
      "execution_count": null,
      "outputs": [
        {
          "output_type": "stream",
          "name": "stdout",
          "text": [
            "Num 1: 15\n",
            "Num 2: 2\n",
            "La suma es:  17.0\n"
          ]
        }
      ]
    },
    {
      "cell_type": "markdown",
      "source": [
        "Coonvertir grados celsius a farenheit, usando funciones de usuario."
      ],
      "metadata": {
        "id": "pDDxzbJbv-tf"
      }
    },
    {
      "cell_type": "code",
      "source": [
        "def convertir_cf(c):\n",
        "  return c*1.8 + 32\n",
        "\n",
        "\n",
        "c = float(input(\"Celsius: \"))\n",
        "print(\"F: \", convertir_cf(c))"
      ],
      "metadata": {
        "id": "B2agKTZ_wC86",
        "outputId": "b9bccb9b-63c7-48e7-eec2-31e2defa775f",
        "colab": {
          "base_uri": "https://localhost:8080/"
        }
      },
      "execution_count": null,
      "outputs": [
        {
          "output_type": "stream",
          "name": "stdout",
          "text": [
            "Celsius: 33\n",
            "F:  91.4\n"
          ]
        }
      ]
    },
    {
      "cell_type": "markdown",
      "source": [
        "Determina si un numero es par o impar"
      ],
      "metadata": {
        "id": "-FPge5pNwNHZ"
      }
    },
    {
      "cell_type": "code",
      "source": [
        "def parImpar(num):\n",
        "  if(num%2==0):\n",
        "    return \"par\"\n",
        "  return \"impar\"\n",
        "\n",
        "\n",
        "num = int(input(\"Num: \"))\n",
        "print(\"EL numero \", num, \" es: \", parImpar(num))\n"
      ],
      "metadata": {
        "id": "WnHUvdHhwV2R",
        "outputId": "16b7199d-15bd-44aa-cb47-e36b3d9b5790",
        "colab": {
          "base_uri": "https://localhost:8080/"
        }
      },
      "execution_count": null,
      "outputs": [
        {
          "output_type": "stream",
          "name": "stdout",
          "text": [
            "Num: 15\n",
            "EL numero  15  es:  impar\n"
          ]
        }
      ]
    },
    {
      "cell_type": "markdown",
      "source": [
        "Calcular el sueldo de un trabajador.\n"
      ],
      "metadata": {
        "id": "qtukOxjfwqRz"
      }
    },
    {
      "cell_type": "code",
      "source": [
        "def sueldo(numHrs, valorXHrs):\n",
        "  sueldo = numHrs * valorXHrs * 30 # 10*1.5*30 = 450\n",
        "  if(numHrs>8):\n",
        "    sueldo = sueldo + (numHrs-8) * valorXHrs * 30 # 2*1.5*30 = 90\n",
        "  return sueldo\n"
      ],
      "metadata": {
        "id": "3BCiwsPyyqGy"
      },
      "execution_count": null,
      "outputs": []
    },
    {
      "cell_type": "code",
      "source": [
        "numHrs = int(input(\"Horas: \"))\n",
        "valorXHrs = float(input(\"Valor: \"))\n",
        "\n",
        "print(\"Sueldo: \", sueldo(numHrs, valorXHrs))\n"
      ],
      "metadata": {
        "id": "2wVD4kh5ytVS",
        "outputId": "317f7e84-7f59-423d-aa6b-19764b16cb3e",
        "colab": {
          "base_uri": "https://localhost:8080/"
        }
      },
      "execution_count": null,
      "outputs": [
        {
          "output_type": "stream",
          "name": "stdout",
          "text": [
            "Horas: 10\n",
            "Valor: 1.5\n",
            "Sueldo:  540.0\n"
          ]
        }
      ]
    },
    {
      "cell_type": "markdown",
      "source": [
        "# **TAREA**"
      ],
      "metadata": {
        "id": "gIeiMv0GyQ6O"
      }
    },
    {
      "cell_type": "markdown",
      "source": [
        "Convertir grados Farenheits a Celsius"
      ],
      "metadata": {
        "id": "HtXSBk9UyXPd"
      }
    },
    {
      "cell_type": "code",
      "source": [
        "def convertir_fc(f):\n",
        "  return (f - 32) * 5.0/9.0\n",
        "\n",
        "\n",
        "f = float(input(\"Farenheits: \"))\n",
        "print(\"Celsius: \", convertir_fc(f))"
      ],
      "metadata": {
        "id": "J0K6CR1WyaIP",
        "outputId": "e0680673-7b9a-4505-e494-081dbabde7f0",
        "colab": {
          "base_uri": "https://localhost:8080/"
        }
      },
      "execution_count": null,
      "outputs": [
        {
          "output_type": "stream",
          "name": "stdout",
          "text": [
            "Farenheits: 86\n",
            "Celsius:  30.0\n"
          ]
        }
      ]
    },
    {
      "cell_type": "markdown",
      "source": [
        "onvertir grados [Celsius y Farenheit] a kelvin.\n"
      ],
      "metadata": {
        "id": "QH7UnKXE2qjZ"
      }
    },
    {
      "cell_type": "code",
      "source": [
        "def celsius_a_kelvin(celsius):\n",
        "    return celsius + 273.15\n",
        "\n",
        "def fahrenheit_a_kelvin(fahrenheit):\n",
        "    return (fahrenheit - 32) * 5/9 + 273.15\n",
        "\n",
        "def main():\n",
        "    print(\"Seleccione la conversión que desea realizar:\")\n",
        "    print(\"1. Convertir Celsius a Kelvin\")\n",
        "    print(\"2. Convertir Fahrenheit a Kelvin\")\n",
        "\n",
        "    opcion = int(input(\"Ingrese el número de la opción: \"))\n",
        "\n",
        "    if opcion == 1:\n",
        "        celsius = float(input(\"Ingrese la temperatura en grados Celsius: \"))\n",
        "        kelvin = celsius_a_kelvin(celsius)\n",
        "        print(f\"{celsius} grados Celsius son {kelvin} Kelvin\")\n",
        "    elif opcion == 2:\n",
        "        fahrenheit = float(input(\"Ingrese la temperatura en grados Fahrenheit: \"))\n",
        "        kelvin = fahrenheit_a_kelvin(fahrenheit)\n",
        "        print(f\"{fahrenheit} grados Fahrenheit son {kelvin} Kelvin\")\n",
        "    else:\n",
        "        print(\"Opción no válida. Por favor, intente nuevamente.\")\n",
        "\n",
        "if __name__ == \"__main__\":\n",
        "    main()\n",
        "\n"
      ],
      "metadata": {
        "id": "eu7qbaGW2x3w",
        "outputId": "50ddda42-e318-4f2f-cc8e-8957ce2d1530",
        "colab": {
          "base_uri": "https://localhost:8080/"
        }
      },
      "execution_count": null,
      "outputs": [
        {
          "output_type": "stream",
          "name": "stdout",
          "text": [
            "Seleccione la conversión que desea realizar:\n",
            "1. Convertir Celsius a Kelvin\n",
            "2. Convertir Fahrenheit a Kelvin\n",
            "Ingrese el número de la opción: 1\n",
            "Ingrese la temperatura en grados Celsius: 52\n",
            "52.0 grados Celsius son 325.15 Kelvin\n"
          ]
        }
      ]
    },
    {
      "cell_type": "markdown",
      "source": [
        "## **Ejercicios de Clase:**"
      ],
      "metadata": {
        "id": "p6PXStRI-KoF"
      }
    },
    {
      "cell_type": "markdown",
      "source": [
        "Elevar un numero"
      ],
      "metadata": {
        "id": "DfUh6zdI-S9U"
      }
    },
    {
      "cell_type": "code",
      "source": [
        "def elevarCuadrado(base,exponente):\n",
        "  return base**exponente\n",
        "\n",
        "num = int(input(\"Num: \"))\n",
        "print(\"Cuadrado: \", elevarCuadrado(num,3))"
      ],
      "metadata": {
        "id": "knIGfZN--XHW",
        "outputId": "1b85c360-7e06-4c35-f9b5-1b194d9ddbf7",
        "colab": {
          "base_uri": "https://localhost:8080/"
        }
      },
      "execution_count": null,
      "outputs": [
        {
          "output_type": "stream",
          "name": "stdout",
          "text": [
            "Num: 3\n",
            "Cuadrado:  27\n"
          ]
        }
      ]
    },
    {
      "cell_type": "markdown",
      "source": [
        "Funcion Lambda"
      ],
      "metadata": {
        "id": "mm-D7Eg4-gJX"
      }
    },
    {
      "cell_type": "code",
      "source": [
        "elevarCuadradoLambda = lambda base,exponente: base**exponente\n",
        "valor = int(input(\"Num: \"))\n",
        "print(\"Cuadrado: \", elevarCuadradoLambda(valor, 2))"
      ],
      "metadata": {
        "id": "7ns0Bd30-5yS",
        "outputId": "24bda8c3-8a31-4d78-dbb0-d5bbf1a500aa",
        "colab": {
          "base_uri": "https://localhost:8080/"
        }
      },
      "execution_count": null,
      "outputs": [
        {
          "output_type": "stream",
          "name": "stdout",
          "text": [
            "Num: 3\n",
            "Cuadrado:  9\n"
          ]
        }
      ]
    },
    {
      "cell_type": "code",
      "source": [
        "serie = [5,4,3,2,6,7]\n",
        "resp = map(lambda x: x**2, serie)\n",
        "print(list(resp))\n",
        "\n",
        "resp2 = map(elevarCuadrado, serie)\n",
        "print(list(resp2))"
      ],
      "metadata": {
        "id": "LykuLtt9_-d0",
        "outputId": "69989a9b-a8f3-487b-d6e6-870456678847",
        "colab": {
          "base_uri": "https://localhost:8080/",
          "height": 193
        }
      },
      "execution_count": null,
      "outputs": [
        {
          "output_type": "stream",
          "name": "stdout",
          "text": [
            "[25, 16, 9, 4, 36, 49]\n"
          ]
        },
        {
          "output_type": "error",
          "ename": "TypeError",
          "evalue": "elevarCuadrado() missing 1 required positional argument: 'exponente'",
          "traceback": [
            "\u001b[0;31m---------------------------------------------------------------------------\u001b[0m",
            "\u001b[0;31mTypeError\u001b[0m                                 Traceback (most recent call last)",
            "\u001b[0;32m<ipython-input-7-da65014cc408>\u001b[0m in \u001b[0;36m<cell line: 6>\u001b[0;34m()\u001b[0m\n\u001b[1;32m      4\u001b[0m \u001b[0;34m\u001b[0m\u001b[0m\n\u001b[1;32m      5\u001b[0m \u001b[0mresp2\u001b[0m \u001b[0;34m=\u001b[0m \u001b[0mmap\u001b[0m\u001b[0;34m(\u001b[0m\u001b[0melevarCuadrado\u001b[0m\u001b[0;34m,\u001b[0m \u001b[0mserie\u001b[0m\u001b[0;34m)\u001b[0m\u001b[0;34m\u001b[0m\u001b[0;34m\u001b[0m\u001b[0m\n\u001b[0;32m----> 6\u001b[0;31m \u001b[0mprint\u001b[0m\u001b[0;34m(\u001b[0m\u001b[0mlist\u001b[0m\u001b[0;34m(\u001b[0m\u001b[0mresp2\u001b[0m\u001b[0;34m)\u001b[0m\u001b[0;34m)\u001b[0m\u001b[0;34m\u001b[0m\u001b[0;34m\u001b[0m\u001b[0m\n\u001b[0m",
            "\u001b[0;31mTypeError\u001b[0m: elevarCuadrado() missing 1 required positional argument: 'exponente'"
          ]
        }
      ]
    },
    {
      "cell_type": "markdown",
      "source": [
        "Obtenerla raiz cuadrada de una serie de numeros fijos"
      ],
      "metadata": {
        "id": "_cy8wFhEDJZm"
      }
    },
    {
      "cell_type": "code",
      "source": [
        "num = [16, 25, 9, 64, 81]\n",
        "\n",
        "for numero in num:\n",
        "    raiz_cuadrada = numero ** 0.5\n",
        "    print(f\"La raíz cuadrada de {numero} es: {raiz_cuadrada}\")"
      ],
      "metadata": {
        "id": "5uIg3_onDpcV",
        "outputId": "bb0c9df0-ea64-4d56-8a70-72b47a81a523",
        "colab": {
          "base_uri": "https://localhost:8080/"
        }
      },
      "execution_count": null,
      "outputs": [
        {
          "output_type": "stream",
          "name": "stdout",
          "text": [
            "La raíz cuadrada de 16 es: 4.0\n",
            "La raíz cuadrada de 25 es: 5.0\n",
            "La raíz cuadrada de 9 es: 3.0\n",
            "La raíz cuadrada de 64 es: 8.0\n",
            "La raíz cuadrada de 81 es: 9.0\n"
          ]
        }
      ]
    },
    {
      "cell_type": "markdown",
      "source": [
        "# **TAREA-LABORATORIO 2: Ejercicios prácticos en Python**\n",
        "\n",
        "\n",
        "\n",
        "\n"
      ],
      "metadata": {
        "id": "0rv1PjhMXjB6"
      }
    },
    {
      "cell_type": "markdown",
      "source": [
        "Calcular el valor a pagar según el número de metros consumidos de agua potable (20%)"
      ],
      "metadata": {
        "id": "cpNElea25x5c"
      }
    },
    {
      "cell_type": "code",
      "source": [
        "def calcular_valor(metros_consumidos):\n",
        "    if metros_consumidos <= 18:\n",
        "        return 6\n",
        "    elif metros_consumidos <= 28:\n",
        "        exceso_18 = metros_consumidos - 18\n",
        "        return 6 + (exceso_18 * 0.45)\n",
        "    else:\n",
        "        exceso_18 = 10\n",
        "        exceso_28 = metros_consumidos - 28\n",
        "        return 6 + (exceso_18 * 0.45) + (exceso_28 * 0.65)\n",
        "\n",
        "metros_consumidos = float(input(\"Ingrese los metros cúbicos de agua consumidos: \"))\n",
        "valor_a_pagar = calcular_valor(metros_consumidos)\n",
        "\n",
        "print(f\"El valor a pagar por {metros_consumidos} metros cúbicos de agua consumidos es: ${valor_a_pagar:.2f}\")\n"
      ],
      "metadata": {
        "id": "w-_gwxlk5zNi"
      },
      "execution_count": null,
      "outputs": []
    },
    {
      "cell_type": "markdown",
      "source": [
        "Calcular sobre el sueldo las deducciones por ley ISSS (3%), AFP(6.25%), ISR(Según tabla) e imprima el total deducciones y sueldo neto. (20%)"
      ],
      "metadata": {
        "id": "0lBUbkAp53zD"
      }
    },
    {
      "cell_type": "code",
      "source": [
        "\n",
        "def calcular_isss(sueldo):\n",
        "    return sueldo * 0.03\n",
        "\n",
        "def calcular_afp(sueldo):\n",
        "    return sueldo * 0.0625\n",
        "\n",
        "def calcular_isr(sueldo):\n",
        "    if sueldo <= 2770.82:\n",
        "        return 0\n",
        "    elif sueldo <= 4104.16:\n",
        "        exceso = sueldo - 2770.83\n",
        "        return 41.70 + (exceso * 0.10)\n",
        "    elif sueldo <= 6666.67:\n",
        "        exceso = sueldo - 4104.17\n",
        "        return 228.57 + (exceso * 0.10)\n",
        "    elif sueldo <= 16666.00:\n",
        "        exceso = sueldo - 6666.68\n",
        "        return 761.91 + (exceso * 0.20)\n",
        "    else:\n",
        "        exceso = sueldo - 16666.01\n",
        "        return 1904.69 + (exceso * 0.30)\n",
        "\n",
        "def calcular_deducciones_y_sueldo_neto(sueldo):\n",
        "    isss = calcular_isss(sueldo)\n",
        "    afp = calcular_afp(sueldo)\n",
        "    isr = calcular_isr(sueldo)\n",
        "    total_deducciones = isss + afp + isr\n",
        "    sueldo_neto = sueldo - total_deducciones\n",
        "    return isss, afp, isr, total_deducciones, sueldo_neto\n",
        "\n",
        "sueldo = float(input(\"Ingrese el sueldo: \"))\n",
        "isss, afp, isr, total_deducciones, sueldo_neto = calcular_deducciones_y_sueldo_neto(sueldo)\n",
        "\n",
        "print(f\"ISSS: ${isss:.2f}\")\n",
        "print(f\"AFP: ${afp:.2f}\")\n",
        "print(f\"ISR: ${isr:.2f}\")\n",
        "print(f\"Total deducciones: ${total_deducciones:.2f}\")\n",
        "print(f\"Sueldo neto: ${sueldo_neto:.2f}\")"
      ],
      "metadata": {
        "id": "Q0_djlmz57A4",
        "outputId": "0548d9a3-9ef8-4401-b16d-68922e274fa8",
        "colab": {
          "base_uri": "https://localhost:8080/"
        }
      },
      "execution_count": 1,
      "outputs": [
        {
          "output_type": "stream",
          "name": "stdout",
          "text": [
            "Ingrese el sueldo: 100\n",
            "ISSS: $3.00\n",
            "AFP: $6.25\n",
            "ISR: $0.00\n",
            "Total deducciones: $9.25\n",
            "Sueldo neto: $90.75\n"
          ]
        }
      ]
    },
    {
      "cell_type": "markdown",
      "source": [
        "Desarrolle la tabla de meses acumulados a n meses. Si puede encontrar la fórmula matemática para evitar ciclos. (10%)"
      ],
      "metadata": {
        "id": "hixoJ2zg6GOT"
      }
    },
    {
      "cell_type": "code",
      "source": [
        "def calcular_acumulacion(meses):\n",
        "    acumulaciones = []\n",
        "    for mes in range(1, meses + 1):\n",
        "        acumulacion = mes * (mes + 1) // 2\n",
        "        acumulaciones.append(acumulacion)\n",
        "    return acumulaciones\n",
        "\n",
        "n_meses = int(input(\"Ingrese el número de meses: \"))\n",
        "acumulaciones = calcular_acumulacion(n_meses)\n",
        "\n",
        "print(\"Mes\\tAcumulación\")\n",
        "for mes, acumulacion in enumerate(acumulaciones, 1):\n",
        "    print(f\"{mes}\\t{acumulacion}\")\n",
        "\n",
        "acumulaciones_150 = calcular_acumulacion(150)\n",
        "print(f\"\\nLa acumulación en el mes 150 es: {acumulaciones_150[-1]}\")"
      ],
      "metadata": {
        "id": "Qv69LgeN6Kk9",
        "outputId": "fa4d7dd8-8e4a-4823-e5f7-27a3e9670e53",
        "colab": {
          "base_uri": "https://localhost:8080/"
        }
      },
      "execution_count": 2,
      "outputs": [
        {
          "output_type": "stream",
          "name": "stdout",
          "text": [
            "Ingrese el número de meses: 4\n",
            "Mes\tAcumulación\n",
            "1\t1\n",
            "2\t3\n",
            "3\t6\n",
            "4\t10\n",
            "\n",
            "La acumulación en el mes 150 es: 11325\n"
          ]
        }
      ]
    },
    {
      "cell_type": "markdown",
      "source": [
        "Conversores:"
      ],
      "metadata": {
        "id": "2GZF8MJLS8Ua"
      }
    },
    {
      "cell_type": "markdown",
      "source": [
        "1. Conversor de MONEDAS\n",
        "\n",
        "\n"
      ],
      "metadata": {
        "id": "6FEsw8ClYsf3"
      }
    },
    {
      "cell_type": "code",
      "source": [
        "tasas_de_cambio = {\n",
        "    \"DOLAR\": 1.0,\n",
        "    \"EURO\": 0.92,\n",
        "    \"LEMPIRA\": 24.53,\n",
        "    \"PESO MEXICANO\": 19.18,\n",
        "    \"PESO COLOMBIANO\": 4052.01,\n",
        "    \"QUETZAL\": 7.68,\n",
        "    \"COLON SALVADOREÑO\": 8.67,\n",
        "    \"BOLIVAR VENEZOLANO\": 36.61,\n",
        "    \"PESO ARGENTINO\": 932.41,\n",
        "    \"COLON COSTARRICENCE\": 518.70\n",
        "}\n",
        "\n",
        "def convertir_moneda(cantidad, de, a):\n",
        "    de = de.upper()\n",
        "    a = a.upper()\n",
        "\n",
        "    if de not in tasas_de_cambio or a not in tasas_de_cambio:\n",
        "        raise ValueError(\"Moneda no soportada.\")\n",
        "\n",
        "    cantidad_en_usd = cantidad / tasas_de_cambio[de]\n",
        "\n",
        "    cantidad_convertida = cantidad_en_usd * tasas_de_cambio[a]\n",
        "\n",
        "    return cantidad_convertida\n",
        "\n",
        "def main():\n",
        "    print(\"Conversor de Monedas\")\n",
        "    print(\"Monedas disponibles: Dolar, Euro, Lempira, Peso Mexicano, Peso Colombiano, Quetzal, Colon Salvadoreño, Bolivar Venezolano, Peso Argentino, Colon Costarricence\")\n",
        "\n",
        "    try:\n",
        "        cantidad = float(input(\"Introduce la cantidad de dinero: \"))\n",
        "        de = input(\"Introduce la moneda de origen: \").upper()\n",
        "        a = input(\"Introduce la moneda de destino: \").upper()\n",
        "\n",
        "        cantidad_convertida = convertir_moneda(cantidad, de, a)\n",
        "        print(f\"{cantidad} {de} es igual a {cantidad_convertida:.2f} {a}\")\n",
        "    except ValueError as e:\n",
        "        print(f\"Error: {e}\")\n",
        "\n",
        "if __name__ == \"__main__\":\n",
        "    main()"
      ],
      "metadata": {
        "id": "BrU7u-B0S-eq",
        "outputId": "721c8157-070b-4588-cc77-b816a23ea194",
        "colab": {
          "base_uri": "https://localhost:8080/"
        }
      },
      "execution_count": null,
      "outputs": [
        {
          "output_type": "stream",
          "name": "stdout",
          "text": [
            "Conversor de Monedas\n",
            "Monedas disponibles: Dolar, Euro, Lempira, Peso Mexicano, Peso Colombiano, Quetzal, Colon Salvadoreño, Bolivar Venezolano, Peso Argentino, Colon Costarricence\n",
            "Introduce la cantidad de dinero: 55\n",
            "Introduce la moneda de origen: dolar\n",
            "Introduce la moneda de destino: euro\n",
            "55.0 DOLAR es igual a 50.60 EURO\n"
          ]
        }
      ]
    },
    {
      "cell_type": "markdown",
      "source": [
        "2. Conversor de Longitud"
      ],
      "metadata": {
        "id": "1epK7g0wTp7N"
      }
    },
    {
      "cell_type": "code",
      "source": [
        "def convertir_longitud(valor, de, a):\n",
        "    conversiones = {\n",
        "        'milimetros': 1,\n",
        "        'centimetros': 10,\n",
        "        'decímetros': 100,\n",
        "        'metros': 1000,\n",
        "        'decametros': 10000,\n",
        "        'hectometros': 100000,\n",
        "        'kilometros': 1000000,\n",
        "        'pulgadas': 25.4,\n",
        "        'pies': 304.8,\n",
        "        'yardas': 914.4,\n",
        "        'millas': 1609344,\n",
        "    }\n",
        "\n",
        "    if de not in conversiones or a not in conversiones:\n",
        "        raise ValueError(\"Unidad no soportada para la conversión.\")\n",
        "\n",
        "    valor_en_mm = valor * conversiones[de]\n",
        "\n",
        "    valor_convertido = valor_en_mm / conversiones[a]\n",
        "\n",
        "    return round(valor_convertido)\n",
        "\n",
        "def main():\n",
        "    print(\"Conversor de longitud\")\n",
        "    print(\"Unidades disponibles: milímetros, centímetros, decímetros, metros, decámetros, hectómetros, kilómetros, pulgadas, pies, yardas, millas\")\n",
        "\n",
        "    valor = float(input(\"Introduce el valor a convertir: \"))\n",
        "    de = input(\"Introduce la unidad de origen: \").strip().lower()\n",
        "    a = input(\"Introduce la unidad de destino: \").strip().lower()\n",
        "\n",
        "    try:\n",
        "        resultado = convertir_longitud(valor, de, a)\n",
        "        print(f\"{valor} {de} son {resultado} {a}\")\n",
        "    except ValueError as e:\n",
        "        print(e)\n",
        "\n",
        "if __name__ == \"__main__\":\n",
        "    main()\n"
      ],
      "metadata": {
        "id": "hk5tbzUKTsKE",
        "outputId": "11f05c97-1433-4bd8-e5eb-8555bdc735b3",
        "colab": {
          "base_uri": "https://localhost:8080/"
        }
      },
      "execution_count": null,
      "outputs": [
        {
          "output_type": "stream",
          "name": "stdout",
          "text": [
            "Conversor de longitud\n",
            "Unidades disponibles: milímetros, centímetros, decímetros, metros, decámetros, hectómetros, kilómetros, pulgadas, pies, yardas, millas\n",
            "Introduce el valor a convertir: 5\n",
            "Introduce la unidad de origen: centimetros \n",
            "Introduce la unidad de destino: militrimos\n",
            "Unidad no soportada para la conversión.\n"
          ]
        }
      ]
    },
    {
      "cell_type": "markdown",
      "source": [
        "3. Conversor de Masa"
      ],
      "metadata": {
        "id": "DLrrRCsEUBNT"
      }
    },
    {
      "cell_type": "code",
      "source": [
        "def convertir_masa(valor, de, a):\n",
        "  conversiones = {\n",
        "      'microgramos': 1,\n",
        "      'miligramos': 1000,\n",
        "      'gramos': 1000000,\n",
        "      'decagramos': 10000000,\n",
        "      'hectogramos': 100000000,\n",
        "      'toneladas': 1000000000000,\n",
        "      'onzas': 28349523.125,\n",
        "      'libras': 453592370,\n",
        "      'stone': 6350293180,\n",
        "  }\n",
        "\n",
        "  if de not in conversiones or a not in conversiones:\n",
        "    raise ValueError(\"Unidad no soportada para la conversion\")\n",
        "\n",
        "  valor_en_microgramos = valor * conversiones[de]\n",
        "\n",
        "  valor_convertido = valor_en_microgramos / conversiones[a]\n",
        "\n",
        "  return round(valor_convertido)\n",
        "\n",
        "def main():\n",
        "  print(\"Conversor de masa\")\n",
        "  print(\"Unidades disponibles: microgramos, miligramos, gramos, decagramos, hectogramos, toneladas, onzas, libras, stone\")\n",
        "\n",
        "  valor = float(input(\"Introduce el valor a convertir: \"))\n",
        "  de = input(\"Introduce la unidad de origen: \").strip().lower()\n",
        "  a = input(\"Introduce la unidad de destino: \").strip().lower()\n",
        "\n",
        "  try:\n",
        "    resultado = convertir_masa(valor, de, a)\n",
        "    print(f\"{valor} {de} son {resultado} {a}\")\n",
        "  except ValueError as e:\n",
        "    print(e)\n",
        "\n",
        "if __name__ == \"__main__\":\n",
        "  main()"
      ],
      "metadata": {
        "id": "QVnd7HEzUqjl",
        "outputId": "791a3977-01ea-4808-840a-c10d16b587a1",
        "colab": {
          "base_uri": "https://localhost:8080/"
        }
      },
      "execution_count": null,
      "outputs": [
        {
          "output_type": "stream",
          "name": "stdout",
          "text": [
            "Conversor de masa\n",
            "Unidades disponibles: microgramos, miligramos, gramos, decagramos, hectogramos, toneladas, onzas, libras, stone\n",
            "Introduce el valor a convertir: 5\n",
            "Introduce la unidad de origen: gramos\n",
            "Introduce la unidad de destino: microgramos\n",
            "5.0 gramos son 5000000 microgramos\n"
          ]
        }
      ]
    },
    {
      "cell_type": "markdown",
      "source": [
        "4. Conversor de Almacenamiento"
      ],
      "metadata": {
        "id": "ZGJioPD2Uycs"
      }
    },
    {
      "cell_type": "code",
      "source": [
        "def convertir_almacenamiento(valor, de, a):\n",
        "    conversiones = {\n",
        "        'bits': 1,\n",
        "        'bytes': 8,\n",
        "        'kilobits': 1000,\n",
        "        'kilobytes': 8000,\n",
        "        'megabits': 1000000,\n",
        "        'megabytes': 8000000,\n",
        "        'gigabits': 1000000000,\n",
        "        'gigabytes': 8000000000,\n",
        "        'terabits': 1000000000000,\n",
        "        'terabytes': 8000000000000,\n",
        "        'petabits': 1000000000000000,\n",
        "        'petabytes': 8000000000000000,\n",
        "    }\n",
        "\n",
        "    if de not in conversiones or a not in conversiones:\n",
        "        raise ValueError(\"Unidad no soportada para la conversión.\")\n",
        "\n",
        "    valor_en_bits = valor * conversiones[de]\n",
        "\n",
        "    valor_convertido = valor_en_bits / conversiones[a]\n",
        "\n",
        "    return round(valor_convertido)\n",
        "\n",
        "def main():\n",
        "    print(\"Conversor de almacenamiento\")\n",
        "    print(\"Unidades disponibles: bits, bytes, kilobits, kilobytes, megabits, megabytes, gigabits, gigabytes, terabits, terabytes, petabits, petabytes\")\n",
        "\n",
        "    valor = float(input(\"Introduce el valor a convertir: \"))\n",
        "    de = input(\"Introduce la unidad de origen: \").strip().lower()\n",
        "    a = input(\"Introduce la unidad de destino: \").strip().lower()\n",
        "\n",
        "    try:\n",
        "        resultado = convertir_almacenamiento(valor, de, a)\n",
        "        print(f\"{valor} {de} son {resultado} {a}\")\n",
        "    except ValueError as e:\n",
        "        print(e)\n",
        "\n",
        "if __name__ == \"__main__\":\n",
        "    main()\n"
      ],
      "metadata": {
        "id": "ZrAZO7XRU6si",
        "outputId": "28e42db1-f7e1-4b13-d02b-a6eec9f5f255",
        "colab": {
          "base_uri": "https://localhost:8080/"
        }
      },
      "execution_count": null,
      "outputs": [
        {
          "output_type": "stream",
          "name": "stdout",
          "text": [
            "Conversor de almacenamiento\n",
            "Unidades disponibles: bits, bytes, kilobits, kilobytes, megabits, megabytes, gigabits, gigabytes, terabits, terabytes, petabits, petabytes\n",
            "Introduce el valor a convertir: 8\n",
            "Introduce la unidad de origen: bytes\n",
            "Introduce la unidad de destino: bits\n",
            "8.0 bytes son 64 bits\n"
          ]
        }
      ]
    },
    {
      "cell_type": "markdown",
      "source": [
        "5. Conversor de Tiempo"
      ],
      "metadata": {
        "id": "fO1pmIDcU_xR"
      }
    },
    {
      "cell_type": "code",
      "source": [
        "def convertir_tiempo(valor, de, a):\n",
        "    conversiones = {\n",
        "        'segundos': 1,\n",
        "        'minutos': 60,\n",
        "        'horas': 3600,\n",
        "        'dias': 86400,\n",
        "        'semanas': 604800,\n",
        "        'meses': 2628000,\n",
        "        'años': 31536000,\n",
        "        'decadas': 315360000,\n",
        "        'siglos': 3153600000,\n",
        "        'milenios': 31536000000,\n",
        "    }\n",
        "\n",
        "    if de not in conversiones or a not in conversiones:\n",
        "        raise ValueError(\"Unidad no soportada para la conversión.\")\n",
        "\n",
        "    valor_en_segundos = valor * conversiones[de]\n",
        "\n",
        "    valor_convertido = valor_en_segundos / conversiones[a]\n",
        "\n",
        "    return round(valor_convertido)\n",
        "\n",
        "def main():\n",
        "    print(\"Bienvenido al conversor de tiempo\")\n",
        "    print(\"Unidades disponibles: segundos, minutos, horas, días, semanas, meses, años, décadas, siglos, milenios\")\n",
        "\n",
        "    valor = float(input(\"Introduce el valor a convertir: \"))\n",
        "    de = input(\"Introduce la unidad de origen: \").strip().lower()\n",
        "    a = input(\"Introduce la unidad de destino: \").strip().lower()\n",
        "\n",
        "    try:\n",
        "        resultado = convertir_tiempo(valor, de, a)\n",
        "        print(f\"{valor} {de} son {resultado} {a}\")\n",
        "    except ValueError as e:\n",
        "        print(e)\n",
        "\n",
        "if __name__ == \"__main__\":\n",
        "    main()\n"
      ],
      "metadata": {
        "id": "ZsIsb4sWVTD3",
        "outputId": "5d263252-5e3c-45fa-e7b0-ad9f02e7c58e",
        "colab": {
          "base_uri": "https://localhost:8080/"
        }
      },
      "execution_count": null,
      "outputs": [
        {
          "output_type": "stream",
          "name": "stdout",
          "text": [
            "Bienvenido al conversor de tiempo\n",
            "Unidades disponibles: segundos, minutos, horas, días, semanas, meses, años, décadas, siglos, milenios\n",
            "Introduce el valor a convertir: 1\n",
            "Introduce la unidad de origen: años\n",
            "Introduce la unidad de destino: meses\n",
            "1.0 años son 12 meses\n"
          ]
        }
      ]
    },
    {
      "cell_type": "markdown",
      "source": [
        "6. Conversor de Volumen"
      ],
      "metadata": {
        "id": "t7XQyHRNVibg"
      }
    },
    {
      "cell_type": "code",
      "source": [
        "def convertir_volumen(valor, de, a):\n",
        "  conversiones = {\n",
        "      'mililitros': 1,\n",
        "      'centilitros': 10,\n",
        "      'decilitros': 100,\n",
        "      'litros': 1000,\n",
        "      'kilolitros': 1000000,\n",
        "      'onzas liquidas': 29.5735,\n",
        "      'tazas': 240,\n",
        "      'galones': 3785.41,\n",
        "      'pies cubicos': 28316.8,\n",
        "      'cuartos': 946.353,\n",
        "  }\n",
        "\n",
        "  if de not in conversiones or a not in conversiones:\n",
        "    raise ValueError(\"Unidad no soportada para la conversion\")\n",
        "\n",
        "  valor_en_mililitros = valor * conversiones[de]\n",
        "\n",
        "  valor_convertido = valor_en_mililitros / conversiones[a]\n",
        "\n",
        "  return round(valor_convertido)\n",
        "\n",
        "def main():\n",
        "  print(\"Conversor de volumen\")\n",
        "  print(\"Unidades disponibles: mililitros, centilitros, decilitros, litros, kilolitros, onzas liquidas, tazas, galones, pies cubicos, cuartos\")\n",
        "\n",
        "  valor = float(input(\"Introduce el valor a convertir: \"))\n",
        "  de = input(\"Introduce la unidad de origen: \").strip().lower()\n",
        "  a = input(\"Introduce la unidad de destino: \").strip().lower()\n",
        "\n",
        "  try:\n",
        "    resultado = convertir_volumen(valor, de, a)\n",
        "    print(f\"{valor} {de} son {resultado} {a}\")\n",
        "  except ValueError as e:\n",
        "    print(e)\n",
        "\n",
        "if __name__ == \"__main__\":\n",
        "  main()"
      ],
      "metadata": {
        "id": "xBAWMsJKVrN2",
        "outputId": "3b6d1c48-2b2b-4bc2-f95e-e213ee128232",
        "colab": {
          "base_uri": "https://localhost:8080/"
        }
      },
      "execution_count": null,
      "outputs": [
        {
          "output_type": "stream",
          "name": "stdout",
          "text": [
            "Conversor de volumen\n",
            "Unidades disponibles: mililitros, centilitros, decilitros, litros, kilolitros, onzas liquidas, tazas, galones, pies cubicos, cuartos\n",
            "Introduce el valor a convertir: 50\n",
            "Introduce la unidad de origen: litros\n",
            "Introduce la unidad de destino: militros\n",
            "Unidad no soportada para la conversion\n"
          ]
        }
      ]
    },
    {
      "cell_type": "markdown",
      "source": [
        "7. Conversor de Area"
      ],
      "metadata": {
        "id": "_9crBllxWQiq"
      }
    },
    {
      "cell_type": "code",
      "source": [
        "def convertir_area(valor, de, a):\n",
        "    conversiones = {\n",
        "        'milimetros cuadrados': 1,\n",
        "        'centimetros cuadrados': 100,\n",
        "        'decimetros cuadrados': 10000,\n",
        "        'metros cuadrados': 1000000,\n",
        "        'hectareas': 10000000000,\n",
        "        'kilometros cuadrados': 1000000000000,\n",
        "        'pulgadas cuadradas': 645.16,\n",
        "        'pies cuadrados': 92903,\n",
        "        'yardas cuadradas': 836127,\n",
        "        'millas cuadradas': 2589988110336,\n",
        "        'manzanas': 7000000000,\n",
        "        'tareas': 6288000000,\n",
        "    }\n",
        "\n",
        "    if de not in conversiones or a not in conversiones:\n",
        "        raise ValueError(\"Unidad no soportada para la conversión.\")\n",
        "\n",
        "    valor_en_mm2 = valor * conversiones[de]\n",
        "\n",
        "    valor_convertido = valor_en_mm2 / conversiones[a]\n",
        "\n",
        "    return (valor_convertido)\n",
        "\n",
        "def main():\n",
        "    print(\"Conversor de área\")\n",
        "    print(\"Unidades disponibles: milímetros cuadrados, centímetros cuadrados, decímetros cuadrados, metros cuadrados, hectáreas, kilómetros cuadrados, pulgadas cuadradas, pies cuadrados, yardas cuadradas, millas cuadradas, manzanas, tareas\")\n",
        "\n",
        "    valor = float(input(\"Introduce el valor a convertir: \"))\n",
        "    de = input(\"Introduce la unidad de origen: \").strip().lower()\n",
        "    a = input(\"Introduce la unidad de destino: \").strip().lower()\n",
        "\n",
        "    try:\n",
        "        resultado = convertir_area(valor, de, a)\n",
        "        print(f\"{valor} {de} son {resultado} {a}\")\n",
        "    except ValueError as e:\n",
        "        print(e)\n",
        "\n",
        "if __name__ == \"__main__\":\n",
        "    main()"
      ],
      "metadata": {
        "id": "YAsOHm0AXTvh",
        "outputId": "37565cce-51b2-4956-f2b6-820025f82d2c",
        "colab": {
          "base_uri": "https://localhost:8080/"
        }
      },
      "execution_count": null,
      "outputs": [
        {
          "output_type": "stream",
          "name": "stdout",
          "text": [
            "Conversor de área\n",
            "Unidades disponibles: milímetros cuadrados, centímetros cuadrados, decímetros cuadrados, metros cuadrados, hectáreas, kilómetros cuadrados, pulgadas cuadradas, pies cuadrados, yardas cuadradas, millas cuadradas, manzanas, tareas\n",
            "Introduce el valor a convertir: 526\n",
            "Introduce la unidad de origen: pies cuadrados \n",
            "Introduce la unidad de destino: milimetros cuadrados\n",
            "526.0 pies cuadrados son 48866978.0 milimetros cuadrados\n"
          ]
        }
      ]
    },
    {
      "cell_type": "markdown",
      "source": [
        "Conversor propio"
      ],
      "metadata": {
        "id": "VCAbS0wB6aiH"
      }
    },
    {
      "cell_type": "code",
      "source": [
        "def convertir(valor, de, a):\n",
        "    conversiones = {\n",
        "        'caja': 25,\n",
        "        'unidad': 1/25,\n",
        "        'saco': 50,\n",
        "        'libra': 1/50,\n",
        "        'fardo': 5,\n",
        "        'unidad_fardo': 1/5,\n",
        "    }\n",
        "\n",
        "    if de in ['caja', 'unidad']:\n",
        "        valor_en_unidades = valor * conversiones[de]\n",
        "    elif de in ['saco', 'libra']:\n",
        "        valor_en_unidades = valor * conversiones[de]\n",
        "    elif de in ['fardo', 'unidad_fardo']:\n",
        "        valor_en_unidades = valor * conversiones[de]\n",
        "    else:\n",
        "        raise ValueError(\"Unidad no soportada para la conversión.\")\n",
        "\n",
        "    if a in ['caja', 'unidad']:\n",
        "        valor_convertido = valor_en_unidades * conversiones[a]\n",
        "    elif a in ['saco', 'libra']:\n",
        "        valor_convertido = valor_en_unidades * conversiones[a]\n",
        "    elif a in ['fardo', 'unidad_fardo']:\n",
        "        valor_convertido = valor_en_unidades * conversiones[a]\n",
        "    else:\n",
        "        raise ValueError(\"Unidad no soportada para la conversión.\")\n",
        "\n",
        "    return round(valor_convertido)\n",
        "\n",
        "\n",
        "def main():\n",
        "    print(\"Conversor propio\")\n",
        "    print(\"Unidades disponibles: caja, unidad, saco, libra, fardo, unidad_fardo\")\n",
        "\n",
        "    valor = float(input(\"Introduce el valor a convertir: \"))\n",
        "    de = input(\"Introduce la unidad de origen: \").strip().lower()\n",
        "    a = input(\"Introduce la unidad de destino: \").strip().lower()\n",
        "\n",
        "    try:\n",
        "        resultado = convertir(valor, de, a)\n",
        "        print(f\"{valor} {de} son {resultado} {a}\")\n",
        "    except ValueError as e:\n",
        "        print(e)\n",
        "\n",
        "if __name__ == \"__main__\":\n",
        "    main()\n",
        "\n",
        "\n"
      ],
      "metadata": {
        "id": "645F87I46bX2",
        "outputId": "7546641d-fa9c-4ad2-c7f2-6709cdb84c77",
        "colab": {
          "base_uri": "https://localhost:8080/"
        }
      },
      "execution_count": 3,
      "outputs": [
        {
          "output_type": "stream",
          "name": "stdout",
          "text": [
            "Conversor propio\n",
            "Unidades disponibles: caja, unidad, saco, libra, fardo, unidad_fardo\n",
            "Introduce el valor a convertir: 52\n",
            "Introduce la unidad de origen: 10\n",
            "Introduce la unidad de destino: 5\n",
            "Unidad no soportada para la conversión.\n"
          ]
        }
      ]
    },
    {
      "cell_type": "markdown",
      "source": [
        "# **Clase virtual**"
      ],
      "metadata": {
        "id": "Q8nSSikQCjMW"
      }
    },
    {
      "cell_type": "code",
      "source": [
        "serie = [1,2,3,3,4,1,8,9]\n",
        "print(serie.count(1))"
      ],
      "metadata": {
        "id": "irr1ZFAvCq1Q"
      },
      "execution_count": null,
      "outputs": []
    },
    {
      "cell_type": "code",
      "source": [
        "numeros = []\n",
        "for i in range(1,10):\n",
        "  numeros.append(int(input(\"Num: \"+str(i)+\": \")))\n",
        "num = int(input(\"Num a buscar: \"))\n",
        "print(\"Serie: \", numeros, \"El numero \", num, \" se repite \", numeros.count(num))"
      ],
      "metadata": {
        "id": "kkk_wE4TDY4L"
      },
      "execution_count": null,
      "outputs": []
    },
    {
      "cell_type": "code",
      "source": [
        "numeros = [1,5,4,3,1,2]\n",
        "numeros.sort()\n",
        "numeros.reverse()\n",
        "print(numeros)\n"
      ],
      "metadata": {
        "id": "U-NgZLmDDhPC"
      },
      "execution_count": null,
      "outputs": []
    },
    {
      "cell_type": "code",
      "source": [
        "datos = {\n",
        "    \"codigo\":\"USSS031223\",\n",
        "    \"nombre\":\"Daniel Vargas\",\n",
        "    \"materias\": [\n",
        "        {\"codigo\":\"611\",\"nombre\":\"Programacion III\",\"notas\":{\n",
        "            \"C1\":{\"LAB1\":8, \"LAB2\":9, \"Parcial\": 10},\n",
        "            \"C2\":{\"LAB1\":10, \"LAB2\":9, \"Parcial\": 10},\n",
        "            \"C3\":{\"LAB1\":4, \"LAB2\":5, \"Parcial\": 8}\n",
        "            }\n",
        "         },\n",
        "        {\"codigo\":\"612\",\"nombre\":\"Estadistica Computacional\"}\n",
        "    ]\n",
        "}\n",
        "print(datos[\"nombre\"], datos[\"materias\"][0][\"nombre\"], datos[\"materias\"][0][\"notas\"][\"C1\"])\n"
      ],
      "metadata": {
        "id": "NoGJdtVIDpFm"
      },
      "execution_count": null,
      "outputs": []
    },
    {
      "cell_type": "markdown",
      "source": [
        "# **Clase-practica**"
      ],
      "metadata": {
        "id": "patwcus9FqE2"
      }
    },
    {
      "cell_type": "markdown",
      "source": [
        "**If** Ejercicio: Solicitar al usuruario la edad y determinar su clasificacion"
      ],
      "metadata": {
        "id": "miQfxghxF2AB"
      }
    },
    {
      "cell_type": "code",
      "source": [
        "edad = int(input(\"edad: \"))\n",
        "if edad>17:\n",
        "  print(\"Welcome to the world responsabilitis\")"
      ],
      "metadata": {
        "id": "sqalSPEdGErD",
        "outputId": "9144c09c-9d5d-4704-9868-2380aa3b522b",
        "colab": {
          "base_uri": "https://localhost:8080/"
        }
      },
      "execution_count": null,
      "outputs": [
        {
          "output_type": "stream",
          "name": "stdout",
          "text": [
            "edad: 20\n",
            "Welcome to the world responsabilitis\n"
          ]
        }
      ]
    },
    {
      "cell_type": "code",
      "source": [
        "edad = int(input(\"edad: \"))\n",
        "if(edad<0):\n",
        "  print(\"ERROR\")\n",
        "elif edad<-2:\n",
        "  print(\"You are a baby\")\n",
        "elif edad<12:\n",
        "  print(\"You are a child\")\n",
        "elif edad<18:\n",
        "  print(\"You are a teenager\")\n",
        "elif edad<65:\n",
        "  print(\"You are a adult\")\n",
        "elif edad<85:\n",
        "  print(\"You are a older adult\")\n",
        "else:\n",
        "  print(\"Long life\")\n",
        "\n"
      ],
      "metadata": {
        "id": "YanUjc08HrOH",
        "outputId": "6e8648f9-d7db-47a3-de3c-9757d687e906",
        "colab": {
          "base_uri": "https://localhost:8080/"
        }
      },
      "execution_count": null,
      "outputs": [
        {
          "output_type": "stream",
          "name": "stdout",
          "text": [
            "edad: -9\n",
            "ERROR\n"
          ]
        }
      ]
    },
    {
      "cell_type": "code",
      "source": [
        "num = int(input(\"Num: \"))\n",
        "if num>0:\n",
        "  print(\"Positivo\")\n",
        "elif num<0:\n",
        "  print(\"Negativo\")\n",
        "else:\n",
        "  print(\"Cero\")\n",
        "\n"
      ],
      "metadata": {
        "id": "IgTewqXDKJfL",
        "outputId": "e72c487b-841d-440d-d2b1-b5875a085ed5",
        "colab": {
          "base_uri": "https://localhost:8080/"
        }
      },
      "execution_count": null,
      "outputs": [
        {
          "output_type": "stream",
          "name": "stdout",
          "text": [
            "Num: 0\n",
            "Cero\n"
          ]
        }
      ]
    },
    {
      "cell_type": "markdown",
      "source": [
        "Ciclo **WHILE**"
      ],
      "metadata": {
        "id": "58ru6FtCOLjG"
      }
    },
    {
      "cell_type": "code",
      "source": [
        "continuar = \"s\"\n",
        "while continuar==\"s\":\n",
        "  edad = int(input(\"edad: \"))\n",
        "  if(edad<0):\n",
        "     print(\"ERROR\")\n",
        "  elif edad<-2:\n",
        "     print(\"You are a baby\")\n",
        "  elif edad<12:\n",
        "     print(\"You are a child\")\n",
        "  elif edad<18:\n",
        "     print(\"You are a teenager\")\n",
        "  elif edad<65:\n",
        "     print(\"You are a adult\")\n",
        "  elif edad<85:\n",
        "     print(\"You are a older adult\")\n",
        "  else:\n",
        "     print(\"Long life\")\n",
        "  continuar = input(\"Continuar s, sino cualquier tecla: \")\n",
        "\n",
        "\n"
      ],
      "metadata": {
        "id": "rS1nq4NiMXgO"
      },
      "execution_count": null,
      "outputs": []
    },
    {
      "cell_type": "markdown",
      "source": [
        "Ciclo **FOR**"
      ],
      "metadata": {
        "id": "S8LV6mV3OTc9"
      }
    },
    {
      "cell_type": "code",
      "source": [
        "continuar=\"s\"\n",
        "while continuar==\"s\":\n",
        "  tabla = int(input(\"Tabla: \"))\n",
        "  for i in range(1,11):\n",
        "    print(tabla, \"x\" ,i, \"=\" ,tabla*i)\n",
        "  continuar = input(\"Continuar s, sino cualquier tecla: \")"
      ],
      "metadata": {
        "id": "RQkXUWnnOfK1"
      },
      "execution_count": null,
      "outputs": []
    },
    {
      "cell_type": "markdown",
      "source": [],
      "metadata": {
        "id": "ePBDPX6a61Pi"
      }
    },
    {
      "cell_type": "markdown",
      "source": [
        "# **Clase Virtual 19-08**"
      ],
      "metadata": {
        "id": "tIHOsonO64VD"
      }
    },
    {
      "cell_type": "markdown",
      "source": [
        "PROGRAMACION ORIENTADA A OBJETOS"
      ],
      "metadata": {
        "id": "F6ODGJlw7BSq"
      }
    },
    {
      "cell_type": "code",
      "source": [
        "class Calculadora:\n",
        "  def sumar(self, num1, num2):\n",
        "    return num1 + num2"
      ],
      "metadata": {
        "id": "osgLH8Kk7edQ"
      },
      "execution_count": 6,
      "outputs": []
    },
    {
      "cell_type": "code",
      "source": [
        "objCalculadora = Calculadora()\n",
        "num1 = float(input(\"Num1: \"))\n",
        "num2 = float(input(\"Num2: \"))\n",
        "print(\"La suma es: \", objCalculadora.sumar(num1, num2))"
      ],
      "metadata": {
        "id": "2NcckDJG702t",
        "outputId": "497de7c0-1d87-4de8-ef83-1222040810f0",
        "colab": {
          "base_uri": "https://localhost:8080/"
        }
      },
      "execution_count": 7,
      "outputs": [
        {
          "output_type": "stream",
          "name": "stdout",
          "text": [
            "Num1: 40\n",
            "Num2: 2\n",
            "La suma es:  42.0\n"
          ]
        }
      ]
    },
    {
      "cell_type": "markdown",
      "source": [
        "EJERCICIO: Escriba un programa que lea una serie de numeros introducidos por el usuario y determine la media aritmetic"
      ],
      "metadata": {
        "id": "iIti884-6_as"
      }
    },
    {
      "cell_type": "code",
      "source": [
        "from math import sqrt\n",
        "class estadistica:\n",
        "  def media(self, serie):\n",
        "    suma = 0\n",
        "    for num in serie:\n",
        "      suma += num\n",
        "    return suma/len(serie)\n",
        "\n",
        "  def tipica(self, serie):\n",
        "    media = self.media(serie)\n",
        "    suma = 0\n",
        "    for num in serie:\n",
        "      suma += (num-media)**2\n",
        "    return sqrt(suma/len(serie))"
      ],
      "metadata": {
        "id": "8H6X98ba8J5R"
      },
      "execution_count": 11,
      "outputs": []
    },
    {
      "cell_type": "code",
      "source": [
        "n = int(input(\"Cuantos numeros va a ingresar: \"))\n",
        "serie = []\n",
        "for num in range(1,n+1):\n",
        "  serie.append(int(input(\"Num: \")))\n",
        "\n",
        "objEstadistica = estadistica()\n",
        "print(\"La media es: \", objEstadistica.media(serie))\n",
        "\n",
        "print(\"La desviacion tipica es: \", objEstadistica.tipica(serie))"
      ],
      "metadata": {
        "id": "Y1J0GY_O8wGA",
        "outputId": "4568ba86-55ae-46f9-ab2d-9f6eb331f8d3",
        "colab": {
          "base_uri": "https://localhost:8080/"
        }
      },
      "execution_count": 12,
      "outputs": [
        {
          "output_type": "stream",
          "name": "stdout",
          "text": [
            "Cuantos numeros va a ingresar: 2\n",
            "Num: 1\n",
            "Num: 2\n",
            "La media es:  1.5\n",
            "La desviacion tipica es:  0.5\n"
          ]
        }
      ]
    }
  ],
  "metadata": {
    "colab": {
      "name": "Te damos la bienvenida a Colaboratory",
      "provenance": [],
      "include_colab_link": true
    },
    "kernelspec": {
      "display_name": "Python 3",
      "name": "python3"
    }
  },
  "nbformat": 4,
  "nbformat_minor": 0
}