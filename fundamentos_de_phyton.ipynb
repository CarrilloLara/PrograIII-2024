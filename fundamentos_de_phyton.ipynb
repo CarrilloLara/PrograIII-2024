{
  "cells": [
    {
      "cell_type": "markdown",
      "metadata": {
        "id": "view-in-github",
        "colab_type": "text"
      },
      "source": [
        "<a href=\"https://colab.research.google.com/github/CarrilloLara/PrograIII-2024/blob/main/fundamentos_de_phyton.ipynb\" target=\"_parent\"><img src=\"https://colab.research.google.com/assets/colab-badge.svg\" alt=\"Open In Colab\"/></a>"
      ]
    },
    {
      "cell_type": "code",
      "source": [
        "print(\"Hola Mundo\")\n",
        "nombre = \"Carrillo Lara\"\n",
        "\n",
        "print(\"Hola \", nombre, \", inicial: \", nombre[0], nombre[5])"
      ],
      "metadata": {
        "id": "gHrQrrhGtdxp",
        "outputId": "c05cf100-2c78-4bda-e1d3-22371ccf07b9",
        "colab": {
          "base_uri": "https://localhost:8080/"
        }
      },
      "execution_count": null,
      "outputs": [
        {
          "output_type": "stream",
          "name": "stdout",
          "text": [
            "Hola Mundo\n",
            "Hola  Carrillo Lara , inicial:  C l\n"
          ]
        }
      ]
    },
    {
      "cell_type": "markdown",
      "source": [
        "**Ejercicios:**\n",
        "\n",
        "\n",
        "\n",
        "\n"
      ],
      "metadata": {
        "id": "gnXp8PeUt2GJ"
      }
    },
    {
      "cell_type": "markdown",
      "source": [
        "Crear un programa en python que sume dos numeros\n"
      ],
      "metadata": {
        "id": "ndbKf_LAuv3y"
      }
    },
    {
      "cell_type": "code",
      "source": [
        "num1 = 5.1\n",
        "num2 = 5.2\n",
        "resp = num1 + num2\n",
        "print(\"La suma es: \", resp)"
      ],
      "metadata": {
        "id": "4wQXp5RGt75M",
        "outputId": "ba423975-c382-4586-dc90-620dbdeb4920",
        "colab": {
          "base_uri": "https://localhost:8080/"
        }
      },
      "execution_count": null,
      "outputs": [
        {
          "output_type": "stream",
          "name": "stdout",
          "text": [
            "La suma es:  10.3\n"
          ]
        }
      ]
    },
    {
      "cell_type": "markdown",
      "source": [
        "Crear un programa en python que sume dos numeros introducidos por el usuario"
      ],
      "metadata": {
        "id": "00Ecg_HkufLd"
      }
    },
    {
      "cell_type": "code",
      "source": [
        "print(\"Num 1\")\n",
        "num1 = int(input())\n",
        "\n",
        "print(\"Num 2\")\n",
        "num2 = float(input())\n",
        "\n",
        "resp = num1 + num2\n",
        "print(\"La suma es: \", resp)"
      ],
      "metadata": {
        "id": "gxQcNuBXukUg",
        "outputId": "06fef9f3-945c-4398-a205-0c222dc3a4cc",
        "colab": {
          "base_uri": "https://localhost:8080/"
        }
      },
      "execution_count": null,
      "outputs": [
        {
          "output_type": "stream",
          "name": "stdout",
          "text": [
            "Num 1\n",
            "5\n",
            "Num 2\n",
            "5\n",
            "La suma es:  10.0\n"
          ]
        }
      ]
    },
    {
      "cell_type": "code",
      "source": [
        "#Tipos de datos\n",
        "num1 = 5 #entero\n",
        "num2 = 5.9 #decimal\n",
        "nombre = \"Carrillo Lara\" #cadenas\n",
        "print(nombre, nombre[0:4], nombre[:4], nombre[-1], nombre[5:len(nombre)])\n",
        "\n",
        "estado = True\n",
        "print(estado)\n",
        "\n",
        "print(type(nombre), type(num1), type(num2), type(estado) )"
      ],
      "metadata": {
        "id": "Lxjy_n88u9X9",
        "outputId": "42315020-d57a-4c98-a5d5-c43687041f6b",
        "colab": {
          "base_uri": "https://localhost:8080/"
        }
      },
      "execution_count": null,
      "outputs": [
        {
          "output_type": "stream",
          "name": "stdout",
          "text": [
            "Carrillo Lara Carr Carr a llo Lara\n",
            "True\n",
            "<class 'str'> <class 'int'> <class 'float'> <class 'bool'>\n"
          ]
        }
      ]
    },
    {
      "cell_type": "markdown",
      "source": [
        "Crear un programa en python que lea un numero y determine si es par o impar."
      ],
      "metadata": {
        "id": "5tA-v3ATvNoj"
      }
    },
    {
      "cell_type": "code",
      "source": [
        "num = int(input(\"ingrese un numero:\"))\n",
        "if num % 2 == 0:\n",
        "  print(\"El numero es par\", num)\n",
        "else:\n",
        "  print(\"El numero es impar\")"
      ],
      "metadata": {
        "id": "virDVh05vZQD",
        "outputId": "a636d3af-ebaf-40f4-c3e7-1b7c5439c872",
        "colab": {
          "base_uri": "https://localhost:8080/"
        }
      },
      "execution_count": null,
      "outputs": [
        {
          "output_type": "stream",
          "name": "stdout",
          "text": [
            "ingrese un numero:10\n",
            "El numero es par 10\n"
          ]
        }
      ]
    },
    {
      "cell_type": "markdown",
      "source": [
        "Uso de las funciones de usuario, con la suma de dos numeros.\n"
      ],
      "metadata": {
        "id": "qCxsmqssvnbN"
      }
    },
    {
      "cell_type": "code",
      "source": [
        "def suma(num1, num2):\n",
        "  return num1 + num2"
      ],
      "metadata": {
        "id": "_2ysZBk7vo-u"
      },
      "execution_count": null,
      "outputs": []
    },
    {
      "cell_type": "code",
      "source": [
        "num1 = float(input(\"Num 1: \"))\n",
        "num2 = float(input(\"Num 2: \"))\n",
        "\n",
        "resp = suma(num1, num2)\n",
        "print(\"La suma es: \", resp)"
      ],
      "metadata": {
        "id": "BSwks7yovvIo",
        "outputId": "bc1e45bb-f154-44f7-ac04-d5c5a70b3bfe",
        "colab": {
          "base_uri": "https://localhost:8080/"
        }
      },
      "execution_count": null,
      "outputs": [
        {
          "output_type": "stream",
          "name": "stdout",
          "text": [
            "Num 1: 15\n",
            "Num 2: 2\n",
            "La suma es:  17.0\n"
          ]
        }
      ]
    },
    {
      "cell_type": "markdown",
      "source": [
        "Coonvertir grados celsius a farenheit, usando funciones de usuario."
      ],
      "metadata": {
        "id": "pDDxzbJbv-tf"
      }
    },
    {
      "cell_type": "code",
      "source": [
        "def convertir_cf(c):\n",
        "  return c*1.8 + 32\n",
        "\n",
        "\n",
        "c = float(input(\"Celsius: \"))\n",
        "print(\"F: \", convertir_cf(c))"
      ],
      "metadata": {
        "id": "B2agKTZ_wC86",
        "outputId": "b9bccb9b-63c7-48e7-eec2-31e2defa775f",
        "colab": {
          "base_uri": "https://localhost:8080/"
        }
      },
      "execution_count": null,
      "outputs": [
        {
          "output_type": "stream",
          "name": "stdout",
          "text": [
            "Celsius: 33\n",
            "F:  91.4\n"
          ]
        }
      ]
    },
    {
      "cell_type": "markdown",
      "source": [
        "Determina si un numero es par o impar"
      ],
      "metadata": {
        "id": "-FPge5pNwNHZ"
      }
    },
    {
      "cell_type": "code",
      "source": [
        "def parImpar(num):\n",
        "  if(num%2==0):\n",
        "    return \"par\"\n",
        "  return \"impar\"\n",
        "\n",
        "\n",
        "num = int(input(\"Num: \"))\n",
        "print(\"EL numero \", num, \" es: \", parImpar(num))\n"
      ],
      "metadata": {
        "id": "WnHUvdHhwV2R",
        "outputId": "16b7199d-15bd-44aa-cb47-e36b3d9b5790",
        "colab": {
          "base_uri": "https://localhost:8080/"
        }
      },
      "execution_count": null,
      "outputs": [
        {
          "output_type": "stream",
          "name": "stdout",
          "text": [
            "Num: 15\n",
            "EL numero  15  es:  impar\n"
          ]
        }
      ]
    },
    {
      "cell_type": "markdown",
      "source": [
        "Calcular el sueldo de un trabajador.\n"
      ],
      "metadata": {
        "id": "qtukOxjfwqRz"
      }
    },
    {
      "cell_type": "code",
      "source": [
        "def sueldo(numHrs, valorXHrs):\n",
        "  sueldo = numHrs * valorXHrs * 30 # 10*1.5*30 = 450\n",
        "  if(numHrs>8):\n",
        "    sueldo = sueldo + (numHrs-8) * valorXHrs * 30 # 2*1.5*30 = 90\n",
        "  return sueldo\n"
      ],
      "metadata": {
        "id": "3BCiwsPyyqGy"
      },
      "execution_count": null,
      "outputs": []
    },
    {
      "cell_type": "code",
      "source": [
        "numHrs = int(input(\"Horas: \"))\n",
        "valorXHrs = float(input(\"Valor: \"))\n",
        "\n",
        "print(\"Sueldo: \", sueldo(numHrs, valorXHrs))\n"
      ],
      "metadata": {
        "id": "2wVD4kh5ytVS",
        "outputId": "317f7e84-7f59-423d-aa6b-19764b16cb3e",
        "colab": {
          "base_uri": "https://localhost:8080/"
        }
      },
      "execution_count": null,
      "outputs": [
        {
          "output_type": "stream",
          "name": "stdout",
          "text": [
            "Horas: 10\n",
            "Valor: 1.5\n",
            "Sueldo:  540.0\n"
          ]
        }
      ]
    },
    {
      "cell_type": "markdown",
      "source": [
        "**TAREA**"
      ],
      "metadata": {
        "id": "gIeiMv0GyQ6O"
      }
    },
    {
      "cell_type": "markdown",
      "source": [
        "Convertir grados Farenheits a Celsius"
      ],
      "metadata": {
        "id": "HtXSBk9UyXPd"
      }
    },
    {
      "cell_type": "code",
      "source": [
        "def convertir_fc(f):\n",
        "  return (f - 32) * 5.0/9.0\n",
        "\n",
        "\n",
        "f = float(input(\"Farenheits: \"))\n",
        "print(\"Celsius: \", convertir_fc(f))"
      ],
      "metadata": {
        "id": "J0K6CR1WyaIP",
        "outputId": "e0680673-7b9a-4505-e494-081dbabde7f0",
        "colab": {
          "base_uri": "https://localhost:8080/"
        }
      },
      "execution_count": null,
      "outputs": [
        {
          "output_type": "stream",
          "name": "stdout",
          "text": [
            "Farenheits: 86\n",
            "Celsius:  30.0\n"
          ]
        }
      ]
    },
    {
      "cell_type": "markdown",
      "source": [
        "onvertir grados [Celsius y Farenheit] a kelvin.\n"
      ],
      "metadata": {
        "id": "QH7UnKXE2qjZ"
      }
    },
    {
      "cell_type": "code",
      "source": [
        "def celsius_a_kelvin(celsius):\n",
        "    return celsius + 273.15\n",
        "\n",
        "def fahrenheit_a_kelvin(fahrenheit):\n",
        "    return (fahrenheit - 32) * 5/9 + 273.15\n",
        "\n",
        "def main():\n",
        "    print(\"Seleccione la conversión que desea realizar:\")\n",
        "    print(\"1. Convertir Celsius a Kelvin\")\n",
        "    print(\"2. Convertir Fahrenheit a Kelvin\")\n",
        "\n",
        "    opcion = int(input(\"Ingrese el número de la opción: \"))\n",
        "\n",
        "    if opcion == 1:\n",
        "        celsius = float(input(\"Ingrese la temperatura en grados Celsius: \"))\n",
        "        kelvin = celsius_a_kelvin(celsius)\n",
        "        print(f\"{celsius} grados Celsius son {kelvin} Kelvin\")\n",
        "    elif opcion == 2:\n",
        "        fahrenheit = float(input(\"Ingrese la temperatura en grados Fahrenheit: \"))\n",
        "        kelvin = fahrenheit_a_kelvin(fahrenheit)\n",
        "        print(f\"{fahrenheit} grados Fahrenheit son {kelvin} Kelvin\")\n",
        "    else:\n",
        "        print(\"Opción no válida. Por favor, intente nuevamente.\")\n",
        "\n",
        "if __name__ == \"__main__\":\n",
        "    main()\n",
        "\n"
      ],
      "metadata": {
        "id": "eu7qbaGW2x3w",
        "outputId": "50ddda42-e318-4f2f-cc8e-8957ce2d1530",
        "colab": {
          "base_uri": "https://localhost:8080/"
        }
      },
      "execution_count": null,
      "outputs": [
        {
          "output_type": "stream",
          "name": "stdout",
          "text": [
            "Seleccione la conversión que desea realizar:\n",
            "1. Convertir Celsius a Kelvin\n",
            "2. Convertir Fahrenheit a Kelvin\n",
            "Ingrese el número de la opción: 1\n",
            "Ingrese la temperatura en grados Celsius: 52\n",
            "52.0 grados Celsius son 325.15 Kelvin\n"
          ]
        }
      ]
    },
    {
      "cell_type": "markdown",
      "source": [
        "## **Ejercicios de Clase:**"
      ],
      "metadata": {
        "id": "p6PXStRI-KoF"
      }
    },
    {
      "cell_type": "markdown",
      "source": [
        "Elevar un numero"
      ],
      "metadata": {
        "id": "DfUh6zdI-S9U"
      }
    },
    {
      "cell_type": "code",
      "source": [
        "def elevarCuadrado(base,exponente):\n",
        "  return base**exponente\n",
        "\n",
        "num = int(input(\"Num: \"))\n",
        "print(\"Cuadrado: \", elevarCuadrado(num,3))"
      ],
      "metadata": {
        "id": "knIGfZN--XHW",
        "outputId": "1b85c360-7e06-4c35-f9b5-1b194d9ddbf7",
        "colab": {
          "base_uri": "https://localhost:8080/"
        }
      },
      "execution_count": 1,
      "outputs": [
        {
          "output_type": "stream",
          "name": "stdout",
          "text": [
            "Num: 3\n",
            "Cuadrado:  27\n"
          ]
        }
      ]
    },
    {
      "cell_type": "markdown",
      "source": [
        "Funcion Lambda"
      ],
      "metadata": {
        "id": "mm-D7Eg4-gJX"
      }
    },
    {
      "cell_type": "code",
      "source": [
        "elevarCuadradoLambda = lambda base,exponente: base**exponente\n",
        "valor = int(input(\"Num: \"))\n",
        "print(\"Cuadrado: \", elevarCuadradoLambda(valor, 2))"
      ],
      "metadata": {
        "id": "7ns0Bd30-5yS",
        "outputId": "24bda8c3-8a31-4d78-dbb0-d5bbf1a500aa",
        "colab": {
          "base_uri": "https://localhost:8080/"
        }
      },
      "execution_count": 5,
      "outputs": [
        {
          "output_type": "stream",
          "name": "stdout",
          "text": [
            "Num: 3\n",
            "Cuadrado:  9\n"
          ]
        }
      ]
    },
    {
      "cell_type": "code",
      "source": [
        "serie = [5,4,3,2,6,7]\n",
        "resp = map(lambda x: x**2, serie)\n",
        "print(list(resp))\n",
        "\n",
        "resp2 = map(elevarCuadrado, serie)\n",
        "print(list(resp2))"
      ],
      "metadata": {
        "id": "LykuLtt9_-d0",
        "outputId": "69989a9b-a8f3-487b-d6e6-870456678847",
        "colab": {
          "base_uri": "https://localhost:8080/",
          "height": 193
        }
      },
      "execution_count": 7,
      "outputs": [
        {
          "output_type": "stream",
          "name": "stdout",
          "text": [
            "[25, 16, 9, 4, 36, 49]\n"
          ]
        },
        {
          "output_type": "error",
          "ename": "TypeError",
          "evalue": "elevarCuadrado() missing 1 required positional argument: 'exponente'",
          "traceback": [
            "\u001b[0;31m---------------------------------------------------------------------------\u001b[0m",
            "\u001b[0;31mTypeError\u001b[0m                                 Traceback (most recent call last)",
            "\u001b[0;32m<ipython-input-7-da65014cc408>\u001b[0m in \u001b[0;36m<cell line: 6>\u001b[0;34m()\u001b[0m\n\u001b[1;32m      4\u001b[0m \u001b[0;34m\u001b[0m\u001b[0m\n\u001b[1;32m      5\u001b[0m \u001b[0mresp2\u001b[0m \u001b[0;34m=\u001b[0m \u001b[0mmap\u001b[0m\u001b[0;34m(\u001b[0m\u001b[0melevarCuadrado\u001b[0m\u001b[0;34m,\u001b[0m \u001b[0mserie\u001b[0m\u001b[0;34m)\u001b[0m\u001b[0;34m\u001b[0m\u001b[0;34m\u001b[0m\u001b[0m\n\u001b[0;32m----> 6\u001b[0;31m \u001b[0mprint\u001b[0m\u001b[0;34m(\u001b[0m\u001b[0mlist\u001b[0m\u001b[0;34m(\u001b[0m\u001b[0mresp2\u001b[0m\u001b[0;34m)\u001b[0m\u001b[0;34m)\u001b[0m\u001b[0;34m\u001b[0m\u001b[0;34m\u001b[0m\u001b[0m\n\u001b[0m",
            "\u001b[0;31mTypeError\u001b[0m: elevarCuadrado() missing 1 required positional argument: 'exponente'"
          ]
        }
      ]
    },
    {
      "cell_type": "markdown",
      "source": [
        "Obtenerla raiz cuadrada de una serie de numeros fijos"
      ],
      "metadata": {
        "id": "_cy8wFhEDJZm"
      }
    },
    {
      "cell_type": "code",
      "source": [
        "num = [16, 25, 9, 64, 81]\n",
        "\n",
        "for numero in num:\n",
        "    raiz_cuadrada = numero ** 0.5\n",
        "    print(f\"La raíz cuadrada de {numero} es: {raiz_cuadrada}\")"
      ],
      "metadata": {
        "id": "5uIg3_onDpcV",
        "outputId": "bb0c9df0-ea64-4d56-8a70-72b47a81a523",
        "colab": {
          "base_uri": "https://localhost:8080/"
        }
      },
      "execution_count": 12,
      "outputs": [
        {
          "output_type": "stream",
          "name": "stdout",
          "text": [
            "La raíz cuadrada de 16 es: 4.0\n",
            "La raíz cuadrada de 25 es: 5.0\n",
            "La raíz cuadrada de 9 es: 3.0\n",
            "La raíz cuadrada de 64 es: 8.0\n",
            "La raíz cuadrada de 81 es: 9.0\n"
          ]
        }
      ]
    }
  ],
  "metadata": {
    "colab": {
      "name": "Te damos la bienvenida a Colaboratory",
      "provenance": [],
      "include_colab_link": true
    },
    "kernelspec": {
      "display_name": "Python 3",
      "name": "python3"
    }
  },
  "nbformat": 4,
  "nbformat_minor": 0
}